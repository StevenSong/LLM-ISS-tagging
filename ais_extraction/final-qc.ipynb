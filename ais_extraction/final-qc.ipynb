{
 "cells": [
  {
   "cell_type": "code",
   "execution_count": null,
   "id": "0",
   "metadata": {},
   "outputs": [],
   "source": [
    "import pandas as pd\n",
    "from collections import defaultdict"
   ]
  },
  {
   "cell_type": "code",
   "execution_count": null,
   "id": "1",
   "metadata": {},
   "outputs": [],
   "source": [
    "dtypes = {\"ais_code\": str, \"description\": str, \"parent_code\": str, \"page\": int}\n",
    "df = pd.read_csv(\"../data/ais_codes.csv\", dtype=dtypes)\n",
    "src = pd.read_csv(\"../data/ais_codes_extracted.csv\", dtype=dtypes)\n",
    "meta = pd.read_csv(\"../data/formatting_metadata.csv\")"
   ]
  },
  {
   "cell_type": "code",
   "execution_count": null,
   "id": "2",
   "metadata": {},
   "outputs": [],
   "source": [
    "# check that hierarchy formatting resulted in the same codes as in original extraction\n",
    "assert meta[\"same_len\"].all() # number of input codes equals number of output codes per page\n",
    "assert src[\"ais_code\"].equals(df[\"ais_code\"]) # codes exactly match\n",
    "assert src[\"description\"].equals(df[\"description\"]) # descriptions exactly match"
   ]
  },
  {
   "cell_type": "code",
   "execution_count": null,
   "id": "3",
   "metadata": {},
   "outputs": [],
   "source": [
    "# check if parent codes are actual codes\n",
    "# 000000.0 indicates top level codes\n",
    "df.loc[~df[\"parent_code\"].isin(df[\"ais_code\"]), \"parent_code\"].value_counts()"
   ]
  },
  {
   "cell_type": "code",
   "execution_count": null,
   "id": "4",
   "metadata": {},
   "outputs": [],
   "source": [
    "# check if there are any self-referential nodes\n",
    "self_ref_mask = (df[\"ais_code\"] == df[\"parent_code\"])\n",
    "df[self_ref_mask]"
   ]
  },
  {
   "cell_type": "code",
   "execution_count": null,
   "id": "5",
   "metadata": {},
   "outputs": [],
   "source": [
    "# aside from self-referential nodes, check if there are any cycles\n",
    "temp = df[~self_ref_mask]\n",
    "\n",
    "# construct directed graph as adjacency list\n",
    "graph = defaultdict(list)\n",
    "for _, row in temp.iterrows():\n",
    "    graph[row[\"parent_code\"]].append(row[\"ais_code\"])"
   ]
  },
  {
   "cell_type": "code",
   "execution_count": null,
   "id": "6",
   "metadata": {},
   "outputs": [],
   "source": [
    "def get_cycle_nodes(adj_list: dict[str, list[str]]) -> list[str]:\n",
    "    visited = set()\n",
    "    recursion_stack = set()\n",
    "\n",
    "    def dfs(node):\n",
    "        if node in recursion_stack:\n",
    "            return True\n",
    "        if node in visited:\n",
    "            return False\n",
    "\n",
    "        visited.add(node)\n",
    "        recursion_stack.add(node)\n",
    "\n",
    "        for neighbor in adj_list.get(node, []):\n",
    "            if dfs(neighbor):\n",
    "                return True\n",
    "\n",
    "        recursion_stack.remove(node)\n",
    "        return False\n",
    "\n",
    "    ret = []\n",
    "    for node in adj_list:\n",
    "        if dfs(node):\n",
    "            ret.append(node)\n",
    "    return ret"
   ]
  },
  {
   "cell_type": "code",
   "execution_count": null,
   "id": "7",
   "metadata": {},
   "outputs": [],
   "source": [
    "cycle_nodes = get_cycle_nodes(graph)\n",
    "cycle_mask = df[\"ais_code\"].isin(cycle_nodes)\n",
    "df[cycle_mask]"
   ]
  },
  {
   "cell_type": "code",
   "execution_count": null,
   "id": "8",
   "metadata": {},
   "outputs": [],
   "source": [
    "# for codes that result in cycles, their pages should have \"max depth reached\" in their reformatted text in the metadata\n",
    "cycle_pages = df.loc[self_ref_mask | cycle_mask, \"page\"].drop_duplicates()\n",
    "assert meta.loc[meta[\"page\"].isin(cycle_pages), \"reformatted\"].str.contains(\"max depth reached\").all()"
   ]
  },
  {
   "cell_type": "code",
   "execution_count": null,
   "id": "9",
   "metadata": {},
   "outputs": [],
   "source": [
    "# check for duplicate codes\n",
    "df[df[\"ais_code\"].duplicated(keep=False)]"
   ]
  },
  {
   "cell_type": "code",
   "execution_count": null,
   "id": "10",
   "metadata": {},
   "outputs": [],
   "source": [
    "# manually correct cycles and duplicates\n",
    "df.loc[952, \"ais_code\"] = \"544899.2\"\n",
    "df.loc[(df[\"parent_code\"] == \"544999.2\") & (df[\"page\"] == 104), \"parent_code\"] = \"544899.2\"\n",
    "\n",
    "df.loc[1065, \"ais_code\"] = \"620099.9\"\n",
    "df.loc[df[\"parent_code\"] == \"620999.9\", \"parent_code\"] = \"620099.9\""
   ]
  },
  {
   "cell_type": "code",
   "execution_count": null,
   "id": "11",
   "metadata": {},
   "outputs": [],
   "source": [
    "df.to_csv(\"../data/ais_codes.csv\", index=False)"
   ]
  },
  {
   "cell_type": "code",
   "execution_count": null,
   "id": "12",
   "metadata": {},
   "outputs": [],
   "source": []
  }
 ],
 "metadata": {
  "kernelspec": {
   "display_name": "trauma",
   "language": "python",
   "name": "python3"
  },
  "language_info": {
   "codemirror_mode": {
    "name": "ipython",
    "version": 3
   },
   "file_extension": ".py",
   "mimetype": "text/x-python",
   "name": "python",
   "nbconvert_exporter": "python",
   "pygments_lexer": "ipython3",
   "version": "3.10.17"
  }
 },
 "nbformat": 4,
 "nbformat_minor": 5
}
